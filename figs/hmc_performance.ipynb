{
 "cells": [
  {
   "cell_type": "code",
   "execution_count": 40,
   "metadata": {},
   "outputs": [],
   "source": [
    "%reload_ext autoreload\n",
    "%autoreload 2\n",
    "%matplotlib inline\n",
    "import sys\n",
    "import numpy as np\n",
    "import matplotlib.pyplot as plt\n",
    "import plotly.plotly as py\n",
    "import plotly.graph_objs as go\n",
    "from plotly import tools"
   ]
  },
  {
   "cell_type": "code",
   "execution_count": 41,
   "metadata": {},
   "outputs": [],
   "source": [
    "d = []\n",
    "x = np.array([0.005, 0.010, 0.015, 0.020, 0.025, 0.030])\n",
    "y = np.array([161.186209, 488.359916, 824.806734, 50.871496, 786.783365, 232.088870]) / 5000\n",
    "d.append([x, y])\n",
    "x = np.array([0.0025, 0.005, 0.0075, 0.01, 0.0125, 0.015])\n",
    "y = np.array([427.175002, 1485.910080, 5000, 959.437183, 30.202512, 87.553069]) / 5000\n",
    "d.append([x, y])\n",
    "x = np.array([0.005, 0.010, 0.015, 0.020, 0.025, 0.030])\n",
    "y = np.array([750.806720, 5000, 5000, 5000, 1588.0265, 66.660807]) / 5000\n",
    "d.append([x, y])"
   ]
  },
  {
   "cell_type": "code",
   "execution_count": 47,
   "metadata": {},
   "outputs": [
    {
     "name": "stdout",
     "output_type": "stream",
     "text": [
      "This is the format of your plot grid:\n",
      "[ (1,1) x1,y1 ]  [ (1,2) x2,y2 ]  [ (1,3) x3,y3 ]\n",
      "\n"
     ]
    }
   ],
   "source": [
    "fig = tools.make_subplots(rows=1, cols=3, subplot_titles=['Australian', 'German', 'Heart'])\n",
    "for k in range(3):\n",
    "    x, y = d[k]\n",
    "    trace = go.Scatter(\n",
    "        x = x,\n",
    "        y = y,\n",
    "        mode = 'lines+markers',\n",
    "    )\n",
    "    fig.append_trace(trace, 1, k+1)\n",
    "\n",
    "\n",
    "fig['layout'].update(height=400, width=1200, title='Effective sample size per sample', showlegend=False)\n",
    "for k in range(3):\n",
    "    fig['layout']['xaxis{}'.format(k+1)].update(title='step size')\n",
    "    fig['layout']['yaxis{}'.format(k+1)].update(title='ESS per sample', range=[0, 1.05])\n",
    "\n",
    "py.iplot(fig, filename='hmc-lr-ess')\n",
    "py.image.save_as(fig, filename='hmc-lr-ess.png')"
   ]
  },
  {
   "cell_type": "code",
   "execution_count": null,
   "metadata": {},
   "outputs": [],
   "source": []
  }
 ],
 "metadata": {
  "kernelspec": {
   "display_name": "Python 3",
   "language": "python",
   "name": "python3"
  },
  "language_info": {
   "codemirror_mode": {
    "name": "ipython",
    "version": 3
   },
   "file_extension": ".py",
   "mimetype": "text/x-python",
   "name": "python",
   "nbconvert_exporter": "python",
   "pygments_lexer": "ipython3",
   "version": "3.5.2"
  }
 },
 "nbformat": 4,
 "nbformat_minor": 2
}
